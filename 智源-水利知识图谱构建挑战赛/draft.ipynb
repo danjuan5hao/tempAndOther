{
 "metadata": {
  "language_info": {
   "codemirror_mode": {
    "name": "ipython",
    "version": 3
   },
   "file_extension": ".py",
   "mimetype": "text/x-python",
   "name": "python",
   "nbconvert_exporter": "python",
   "pygments_lexer": "ipython3",
   "version": "3.8.3-final"
  },
  "orig_nbformat": 2,
  "kernelspec": {
   "name": "python3",
   "display_name": "Python 3",
   "language": "python"
  }
 },
 "nbformat": 4,
 "nbformat_minor": 2,
 "cells": [
  {
   "cell_type": "code",
   "execution_count": 5,
   "metadata": {},
   "outputs": [],
   "source": [
    "# -*- coding=utf-8 -*-\n",
    "train_path = \"data/bmes_train.json\"\n",
    "# test_path =  \"data/bmes_test.json\"\n",
    "\n",
    "import json \n",
    "def load_json(path):\n",
    "    with open(path, \"r\", encoding=\"'utf-8\") as f:\n",
    "        data = json.load(f)\n",
    "    return data\n",
    "\n",
    "\n",
    "train_data = load_json(train_path)\n",
    "# test_data =load_json(test_path)\n"
   ]
  },
  {
   "cell_type": "code",
   "execution_count": 8,
   "metadata": {},
   "outputs": [
    {
     "output_type": "execute_result",
     "data": {
      "text/plain": [
       "{'id': 'train_0',\n",
       " 'text': '1976年冬，配合兴建涡河闸水利工程，开挖了涡河引河，全长1.2公里。',\n",
       " 'entities': ['涡河-RIV']}"
      ]
     },
     "metadata": {},
     "execution_count": 8
    }
   ],
   "source": [
    "train_data[0]"
   ]
  },
  {
   "cell_type": "code",
   "execution_count": null,
   "metadata": {},
   "outputs": [],
   "source": [
    "for i in range(100):\n",
    "    print(train_data[i])"
   ]
  }
 ]
}