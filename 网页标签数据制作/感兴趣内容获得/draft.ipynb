{
 "metadata": {
  "language_info": {
   "codemirror_mode": {
    "name": "ipython",
    "version": 3
   },
   "file_extension": ".py",
   "mimetype": "text/x-python",
   "name": "python",
   "nbconvert_exporter": "python",
   "pygments_lexer": "ipython3",
   "version": "3.8.3-final"
  },
  "orig_nbformat": 2,
  "kernelspec": {
   "name": "python3",
   "display_name": "Python 3",
   "language": "python"
  }
 },
 "nbformat": 4,
 "nbformat_minor": 2,
 "cells": [
  {
   "cell_type": "code",
   "execution_count": 3,
   "metadata": {},
   "outputs": [],
   "source": [
    "# -*- coding: utf-8 -*-\n",
    "import requests\n",
    "\n",
    "test_url = \"https://www.acclimited.com/about\" # \"http://www.go2coding.com/blog/show/212\"\n",
    "test_html = requests.get(test_url).text"
   ]
  },
  {
   "cell_type": "code",
   "execution_count": 8,
   "metadata": {},
   "outputs": [
    {
     "output_type": "execute_result",
     "data": {
      "text/plain": [
       "'  * 首页\\n  * 问答\\n  * 博客\\n  * 标签\\n  * 课程\\n\\n  * __\\n  * __登录\\n  * __注册\\n\\n×\\n\\n####  意见反馈\\n\\n意见类型\\n\\n  *   *   * \\n\\n意见详情\\n\\n页面链接\\n\\n联系方式\\n\\n提交\\n\\n__python\\n\\n__go2pythonlib\\n\\n__ 2019-10-29 11:54:18\\n\\n##  python第三方库：使用html2text把html转换为markdown格式\\n\\n__273 / __0 / __0 / __0\\n\\n在之前找了很多的库把html转换为markdown的格式，有些库效果并不是非常的好，后面使用了html2text，效果有点提升。\\n\\n`html2text`的原理是使用`HTMLParser` 对html的标签逐一的进行解析，并根据各个标签还原为markdown的格式。\\n\\n#### html2text 安装\\n\\n`html2text` 的地址在：\\n\\n    \\n    \\n    http://www.aaronsw.com/2002/html2text/\\n\\n它是一个网页格式工具，能够在线把网站转换为markdown的格式，下载里面的`html2text.py`，放到自己的工程里。\\n\\n`github`上的地址在：\\n\\n    \\n    \\n    https://github.com/aaronsw/html2text\\n\\n#### html2text 使用\\n\\n用起来也比起其他的库会来的简单点：\\n\\n    \\n    \\n    import html2text\\n    article_content = \"\"\\n    html2text.html2text(article_content)\\n\\n有的时候`html2text`\\n并不能很好的理解我们需要的markdown，好在`html2text.py`并不是非常的复杂，我们可以在这个源码的基础上在进行相应的修改。\\n\\nPS: **如本文对您有疑惑，可加QQ：1752338621 进行讨论。**\\n\\n### 0 条评论\\n\\n默认  时间  支持\\n\\n您需要登录才可以发表评论噢！！！登录 or 注册\\n\\n### 相关文章\\n\\npython第三方库：使用Jieba对抓取的数据进行中文分词\\n\\npython第三方库：chardet字符编码检测和乱码处理\\n\\npython第三方库：fuzzywuzzy句子与句子间相似度\\n\\npython第三方库：pypinyin将汉字转为拼音\\n\\n0\\n\\n0\\n\\n关于go2coding | 联系我们 | 帮助中心\\n\\nCopyright © 2018  go2coding.com\\n\\n关注我们\\n\\n__\\n\\nQQ：1752338621 __\\n\\n____\\n\\n服务赞助商\\n\\n__ 官方  \\n微信 __ Q Q  \\n咨询 __ 意见  \\n反馈 __ 返回  \\n顶部\\n\\n'"
      ]
     },
     "metadata": {},
     "execution_count": 8
    }
   ],
   "source": [
    "import html2text\n",
    "\n",
    "h = html2text.HTML2Text()\n",
    "h.ignore_links = True\n",
    "h.ignore_images =True\n",
    "h.handle(test_html)"
   ]
  },
  {
   "cell_type": "code",
   "execution_count": null,
   "metadata": {},
   "outputs": [],
   "source": []
  }
 ]
}