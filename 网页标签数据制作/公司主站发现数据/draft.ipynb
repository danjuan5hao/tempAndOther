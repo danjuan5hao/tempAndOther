draft

{
 "cells": [
  {
   "cell_type": "code",
   "execution_count": 1,
   "metadata": {},
   "outputs": [
    {
     "output_type": "execute_result",
     "data": {
      "text/plain": [
       "               0                  1                              2          3  \\\n",
       "0  Aban Offshore          Oil & gas       Exploration & production    Chennai   \n",
       "1   ABG Shipyard        Industrials                   Shipbuilding  Ahmedabad   \n",
       "2      ABP Group  Consumer services   Broadcasting & entertainment    Kolkata   \n",
       "3    ACC Limited        Industrials  Building materials & fixtures     Mumbai   \n",
       "4   Action Group       Conglomerate                              -  New Delhi   \n",
       "\n",
       "      4                                  5  \n",
       "0  1986                 Oil, petrochemical  \n",
       "1  1985                   Ship engineering  \n",
       "2  1922                        Media, news  \n",
       "3  1936                             Cement  \n",
       "4  1972  Apparel, chemicals, retail, steel  "
      ],
      "text/html": "<div>\n<style scoped>\n    .dataframe tbody tr th:only-of-type {\n        vertical-align: middle;\n    }\n\n    .dataframe tbody tr th {\n        vertical-align: top;\n    }\n\n    .dataframe thead th {\n        text-align: right;\n    }\n</style>\n<table border=\"1\" class=\"dataframe\">\n  <thead>\n    <tr style=\"text-align: right;\">\n      <th></th>\n      <th>0</th>\n      <th>1</th>\n      <th>2</th>\n      <th>3</th>\n      <th>4</th>\n      <th>5</th>\n    </tr>\n  </thead>\n  <tbody>\n    <tr>\n      <th>0</th>\n      <td>Aban Offshore</td>\n      <td>Oil &amp; gas</td>\n      <td>Exploration &amp; production</td>\n      <td>Chennai</td>\n      <td>1986</td>\n      <td>Oil, petrochemical</td>\n    </tr>\n    <tr>\n      <th>1</th>\n      <td>ABG Shipyard</td>\n      <td>Industrials</td>\n      <td>Shipbuilding</td>\n      <td>Ahmedabad</td>\n      <td>1985</td>\n      <td>Ship engineering</td>\n    </tr>\n    <tr>\n      <th>2</th>\n      <td>ABP Group</td>\n      <td>Consumer services</td>\n      <td>Broadcasting &amp; entertainment</td>\n      <td>Kolkata</td>\n      <td>1922</td>\n      <td>Media, news</td>\n    </tr>\n    <tr>\n      <th>3</th>\n      <td>ACC Limited</td>\n      <td>Industrials</td>\n      <td>Building materials &amp; fixtures</td>\n      <td>Mumbai</td>\n      <td>1936</td>\n      <td>Cement</td>\n    </tr>\n    <tr>\n      <th>4</th>\n      <td>Action Group</td>\n      <td>Conglomerate</td>\n      <td>-</td>\n      <td>New Delhi</td>\n      <td>1972</td>\n      <td>Apparel, chemicals, retail, steel</td>\n    </tr>\n  </tbody>\n</table>\n</div>"
     },
     "metadata": {},
     "execution_count": 1
    }
   ],
   "source": [
    "# -*- coding: utf-8 -*-\n",
    "import pandas as pd\n",
    "df = pd.read_csv('indian_companys_wiki.tsv', sep='\\t',header=None)\n",
    "df.head()"
   ]
  },
  {
   "cell_type": "code",
   "execution_count": 2,
   "metadata": {},
   "outputs": [],
   "source": [
    "import urllib\n",
    "import requests\n",
    "from bs4 import BeautifulSoup"
   ]
  },
  {
   "cell_type": "code",
   "execution_count": 12,
   "metadata": {},
   "outputs": [],
   "source": [
    "# desktop user-agent\n",
    "USER_AGENT = \"Mozilla/5.0 (Macintosh; Intel Mac OS X 10.14; rv:65.0) Gecko/20100101 Firefox/65.0\"\n",
    "# mobile user-agent\n",
    "MOBILE_USER_AGENT = \"Mozilla/5.0 (Linux; Android 7.0; SM-G930V Build/NRD90M) AppleWebKit/537.36 (KHTML, like Gecko) Chrome/59.0.3071.125 Mobile Safari/537.36\"\n",
    "\n",
    "HEADERS = {\"user-agent\" : MOBILE_USER_AGENT}"
   ]
  },
  {
   "cell_type": "code",
   "execution_count": 82,
   "metadata": {},
   "outputs": [],
   "source": [
    "def query2url(query):\n",
    "    query = query.replace(' ', '+')\n",
    "    URL = f\"https://google.com/search?q={query}\"\n",
    "    return URL"
   ]
  },
  {
   "cell_type": "code",
   "execution_count": 43,
   "metadata": {},
   "outputs": [],
   "source": [
    "def requests_google(url):\n",
    "    resp = requests.get(url, headers=HEADERS)\n",
    "    return resp"
   ]
  },
  {
   "cell_type": "code",
   "execution_count": null,
   "metadata": {},
   "outputs": [],
   "source": [
    "\n",
    "\n"
   ]
  },
  {
   "cell_type": "code",
   "execution_count": 184,
   "metadata": {},
   "outputs": [
    {
     "output_type": "error",
     "ename": "SyntaxError",
     "evalue": "invalid syntax (<ipython-input-184-95413aff18e5>, line 11)",
     "traceback": [
      "\u001b[1;36m  File \u001b[1;32m\"<ipython-input-184-95413aff18e5>\"\u001b[1;36m, line \u001b[1;32m11\u001b[0m\n\u001b[1;33m    link_pre = g.find('a', class_= re.compile(\"C8nzq BmP5tf\")): # r\"C8nzq BmP5tf*\"\u001b[0m\n\u001b[1;37m                                                              ^\u001b[0m\n\u001b[1;31mSyntaxError\u001b[0m\u001b[1;31m:\u001b[0m invalid syntax\n"
     ]
    }
   ],
   "source": [
    "import re\n",
    "def parser_resp(resp):\n",
    "    # print(resp.content)\n",
    "    if resp.status_code == 200:\n",
    "        soup = BeautifulSoup(resp.content, \"html.parser\")\n",
    "        with open(\"temp.txt\", \"w\", encoding=\"utf-8\", newline=\"\") as f:\n",
    "            f.write(str(resp.content))\n",
    "        gtags = soup.body.find_all('div', class_='KJDcUb')\n",
    "        print(len(gtags))\n",
    "        for g in gtags:\n",
    "            link_pre = g.find('a', class_= re.compile(\"C8nzq BmP5tf\")):\n",
    "            if link_pre:\n",
    "                link = link_pre[\"href\"]\n",
    "                title = g.find('span').text\n",
    "                print(link)\n",
    "                print(title)\n",
    "        print(len(gtags))\n",
    "        # # print(gtags[0].attrs)\n",
    "        # # print(gtags[0].)\n",
    "        # return None\n",
    "    else:\n",
    "        return None\n",
    "        \n",
    "    "
   ]
  },
  {
   "cell_type": "code",
   "execution_count": 179,
   "metadata": {},
   "outputs": [],
   "source": [
    "def google_search(query):\n",
    "    url = query2url(query)\n",
    "    resp = requests_google(url)\n",
    "    return parser_resp(resp)"
   ]
  },
  {
   "cell_type": "code",
   "execution_count": 180,
   "metadata": {
    "tags": []
   },
   "outputs": [
    {
     "output_type": "stream",
     "name": "stdout",
     "text": [
      "9\n9\nNone\n"
     ]
    }
   ],
   "source": [
    "test_query = \"aban offshore\"\n",
    "test_result = google_search(test_query)\n",
    "print(test_result)"
   ]
  },
  {
   "cell_type": "code",
   "execution_count": 14,
   "metadata": {},
   "outputs": [
    {
     "data": {
      "text/plain": [
       "''"
      ]
     },
     "execution_count": 14,
     "metadata": {},
     "output_type": "execute_result"
    }
   ],
   "source": [
    "len(\"\")\n",
    "\"a\"[:-1]"
   ]
  },
  {
   "cell_type": "code",
   "execution_count": 21,
   "metadata": {},
   "outputs": [],
   "source": [
    "def med_aux(str1, str2):\n",
    "    if str1[-1] == str2[-1]:\n",
    "        return med(str1[:-1], str2[:-1])\n",
    "    else:\n",
    "        return min(med(str1[:-1], str2) + 1,\n",
    "                    med(str1, str2[:-1]) + 1,\n",
    "                    med(str1[:-1], str2[:-1]) + 1)\n",
    "    \n",
    "\n",
    "def med(str1, str2):\n",
    "    if len(str1) == 0 or len(str2) == 0:\n",
    "        return max(len(str1), len(str2))\n",
    "    else:\n",
    "        return med_aux(str1, str2)"
   ]
  },
  {
   "cell_type": "code",
   "execution_count": 22,
   "metadata": {},
   "outputs": [
    {
     "data": {
      "text/plain": [
       "3"
      ]
     },
     "execution_count": 22,
     "metadata": {},
     "output_type": "execute_result"
    }
   ],
   "source": [
    "str_one = \"you re edit\"\n",
    "str_two = \"youreidit\"\n",
    "med(str_one, str_two)"
   ]
  },
  {
   "cell_type": "code",
   "execution_count": null,
   "metadata": {},
   "outputs": [],
   "source": []
  }
 ],
 "metadata": {
  "kernelspec": {
   "display_name": "Python 3",
   "language": "python",
   "name": "python3"
  },
  "language_info": {
   "codemirror_mode": {
    "name": "ipython",
    "version": 3
   },
   "file_extension": ".py",
   "mimetype": "text/x-python",
   "name": "python",
   "nbconvert_exporter": "python",
   "pygments_lexer": "ipython3",
   "version": "3.8.3-final"
  }
 },
 "nbformat": 4,
 "nbformat_minor": 4
}