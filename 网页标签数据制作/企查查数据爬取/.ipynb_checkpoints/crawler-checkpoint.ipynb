{
 "cells": [
  {
   "cell_type": "code",
   "execution_count": 5,
   "metadata": {},
   "outputs": [
    {
     "name": "stderr",
     "output_type": "stream",
     "text": [
      "<ipython-input-5-8ee1a6fe04f0>:12: DeprecationWarning: use options instead of chrome_options\n",
      "  driver = webdriver.Chrome(chrome_options=option)\n"
     ]
    },
    {
     "ename": "AttributeError",
     "evalue": "'str' object has no attribute 'decode'",
     "output_type": "error",
     "traceback": [
      "\u001b[1;31m---------------------------------------------------------------------------\u001b[0m",
      "\u001b[1;31mAttributeError\u001b[0m                            Traceback (most recent call last)",
      "\u001b[1;32m<ipython-input-5-8ee1a6fe04f0>\u001b[0m in \u001b[0;36m<module>\u001b[1;34m\u001b[0m\n\u001b[0;32m     34\u001b[0m     \u001b[1;32mif\u001b[0m \u001b[1;33m(\u001b[0m\u001b[0mi\u001b[0m\u001b[1;33m==\u001b[0m\u001b[1;36m0\u001b[0m\u001b[1;33m)\u001b[0m\u001b[1;33m:\u001b[0m\u001b[1;33m\u001b[0m\u001b[1;33m\u001b[0m\u001b[0m\n\u001b[0;32m     35\u001b[0m         \u001b[1;31m#向搜索框注入文字\u001b[0m\u001b[1;33m\u001b[0m\u001b[1;33m\u001b[0m\u001b[1;33m\u001b[0m\u001b[0m\n\u001b[1;32m---> 36\u001b[1;33m         \u001b[0mtxt\u001b[0m\u001b[1;33m=\u001b[0m\u001b[0mtxt\u001b[0m\u001b[1;33m.\u001b[0m\u001b[0mdecode\u001b[0m\u001b[1;33m(\u001b[0m\u001b[1;34m'utf-8'\u001b[0m\u001b[1;33m)\u001b[0m\u001b[1;33m\u001b[0m\u001b[1;33m\u001b[0m\u001b[0m\n\u001b[0m\u001b[0;32m     37\u001b[0m         \u001b[0mdriver\u001b[0m\u001b[1;33m.\u001b[0m\u001b[0mfind_element_by_id\u001b[0m\u001b[1;33m(\u001b[0m\u001b[1;34m'searchkey'\u001b[0m\u001b[1;33m)\u001b[0m\u001b[1;33m.\u001b[0m\u001b[0msend_keys\u001b[0m\u001b[1;33m(\u001b[0m\u001b[0mtxt\u001b[0m\u001b[1;33m)\u001b[0m\u001b[1;33m\u001b[0m\u001b[1;33m\u001b[0m\u001b[0m\n\u001b[0;32m     38\u001b[0m         \u001b[1;31m#单击搜索按钮\u001b[0m\u001b[1;33m\u001b[0m\u001b[1;33m\u001b[0m\u001b[1;33m\u001b[0m\u001b[0m\n",
      "\u001b[1;31mAttributeError\u001b[0m: 'str' object has no attribute 'decode'"
     ]
    }
   ],
   "source": [
    "# -#- coding: utf-8 -*-\n",
    "from selenium import webdriver\n",
    "from selenium.common.exceptions import NoSuchElementException\n",
    "import time\n",
    "import xlwt\n",
    "import sys\n",
    "\n",
    "\n",
    "#伪装成浏览器，防止被识破\n",
    "option = webdriver.ChromeOptions()\n",
    "option.add_argument('--user-agent=\"Mozilla/5.0 (Windows NT 10.0; Win64; x64) AppleWebKit/537.36 (KHTML, like Gecko) Chrome/65.0.3325.146 Safari/537.36\"')\n",
    "driver = webdriver.Chrome(chrome_options=option)\n",
    "\n",
    "#打开登录页面\n",
    "driver.get('https://www.qichacha.com/user_login')\n",
    "#单击用户名密码登录的标签\n",
    "tag = driver.find_element_by_xpath('//*[@id=\"normalLogin\"]')\n",
    "tag.click()\n",
    "#将用户名、密码注入\n",
    "# driver.find_element_by_id('nameNormal').send_keys('17717080549')\n",
    "# driver.find_element_by_id('pwdNormal').send_keys('madlax1026')\n",
    "time.sleep(30)#休眠，人工完成验证步骤，等待程序单击“登录”\n",
    "#单击登录按钮\n",
    "btn = driver.find_element_by_xpath('//*[@id=\"user_login_normal\"]/button')\n",
    "btn.click()\n",
    "\n",
    "inc_list = ['阿里巴巴','腾讯','今日头条','滴滴','美团']\n",
    "inc_len = len(inc_list)\n",
    "\n",
    "for i in range(inc_len):\n",
    "    txt = inc_list[i]\n",
    "    time.sleep(1)\n",
    "\n",
    "    if (i==0):\n",
    "        #向搜索框注入文字\n",
    "        txt=txt.decode('utf-8')\n",
    "        driver.find_element_by_id('searchkey').send_keys(txt)\n",
    "        #单击搜索按钮\n",
    "        srh_btn = driver.find_element_by_xpath('//*[@id=\"V3_Search_bt\"]')\n",
    "        srh_btn.click()\n",
    "    else:\n",
    "        #向搜索框注入下一个公司地址\n",
    "        txt=txt.decode('utf-8')\n",
    "        driver.find_element_by_id('headerKey').send_keys(txt)\n",
    "        #搜索按钮 \n",
    "        srh_btn = driver.find_element_by_xpath('/html/body/header/div/form/div/div/span/button')\n",
    "        srh_btn.click()\n",
    "\n",
    "    #获取首个企业文本\n",
    "    print(i+1)\n",
    "    inc_full = driver.find_element_by_xpath('//*[@id=\"search-result\"]/tr[1]/td[3]/a').text                                \n",
    "    print(inc_full)\n",
    "    money = driver.find_element_by_xpath('//*[@id=\"search-result\"]/tr[1]/td[3]/p[1]/span[1]').text\n",
    "    print(money)\n",
    "    date = driver.find_element_by_xpath('//*[@id=\"search-result\"]/tr[1]/td[3]/p[1]/span[2]').text\n",
    "    print(date)\n",
    "    mail_phone = driver.find_element_by_xpath('//*[@id=\"search-result\"]/tr[1]/td[3]/p[2]').text\n",
    "    print(mail_phone)\n",
    "    addr = driver.find_element_by_xpath('//*[@id=\"search-result\"]/tr[1]/td[3]/p[3]').text\n",
    "    print(addr)\n",
    "    try:\n",
    "        stock_or_others = driver.find_element_by_xpath('//*[@id=\"search-result\"]/tr[1]/td[3]/p[4]').text\n",
    "        print(stock_or_others)\n",
    "    except:\n",
    "        pass\n",
    "\n",
    "    #获取网页地址，进入\n",
    "    inner = driver.find_element_by_xpath('//*[@id=\"search-result\"]/tr[1]/td[3]/a').get_attribute(\"href\")\n",
    "    driver.get(inner)\n",
    "\n",
    "    #单击进入后 官网 通过href属性获得：\n",
    "    inc_web = driver.find_element_by_xpath('//*[@id=\"company-top\"]/div[2]/div[2]/div[3]/div[1]/span[3]/a').get_attribute(\"href\")\n",
    "    print(\"官网：\"+inc_web)\n",
    "    print(' ')\n",
    "\n",
    "driver.close()\n",
    "\n",
    "#bug list:\n",
    "#UnicodeDecodeError: 'utf8' codec can't decode byte 0xe9 in position 0: unexpected end of data\n",
    "#原因：向搜索栏注入中文字符串时，必须先采用如下方式转换成utf-8编码\n",
    "#解决：send_keys(\"阿里巴巴\".decode('utf-8'))"
   ]
  },
  {
   "cell_type": "code",
   "execution_count": null,
   "metadata": {},
   "outputs": [],
   "source": []
  }
 ],
 "metadata": {
  "kernelspec": {
   "display_name": "Python 3",
   "language": "python",
   "name": "python3"
  },
  "language_info": {
   "codemirror_mode": {
    "name": "ipython",
    "version": 3
   },
   "file_extension": ".py",
   "mimetype": "text/x-python",
   "name": "python",
   "nbconvert_exporter": "python",
   "pygments_lexer": "ipython3",
   "version": "3.8.3"
  }
 },
 "nbformat": 4,
 "nbformat_minor": 4
}
